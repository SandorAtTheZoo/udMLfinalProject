{
 "cells": [
  {
   "cell_type": "code",
   "execution_count": 1,
   "metadata": {
    "ExecuteTime": {
     "end_time": "2019-01-13T04:52:24.064000Z",
     "start_time": "2019-01-13T04:52:24.050000Z"
    },
    "hide_input": false
   },
   "outputs": [
    {
     "data": {
      "text/html": [
       "<script>\n",
       "code_show_err=true;\n",
       "function code_toggle_err() {\n",
       "  if (code_show_err) {\n",
       "  $('div.output_stderr').hide();\n",
       "  } else {\n",
       "  $('div.output_stderr').show();\n",
       "  }\n",
       "  code_show_err = !code_show_err\n",
       "}\n",
       "$( document ).ready(code_toggle_err);\n",
       "</script>\n",
       "To toggle on/off output_stderr, click <a href=\"javascript:code_toggle_err()\">here</a>."
      ],
      "text/plain": [
       "<IPython.core.display.HTML object>"
      ]
     },
     "execution_count": 1,
     "metadata": {},
     "output_type": "execute_result"
    }
   ],
   "source": [
    "# https://stackoverflow.com/questions/9031783/hide-all-warnings-in-ipython\n",
    "from IPython.display import HTML\n",
    "HTML('''<script>\n",
    "code_show_err=true;\n",
    "function code_toggle_err() {\n",
    "  if (code_show_err) {\n",
    "  $('div.output_stderr').hide();\n",
    "  } else {\n",
    "  $('div.output_stderr').show();\n",
    "  }\n",
    "  code_show_err = !code_show_err\n",
    "}\n",
    "$( document ).ready(code_toggle_err);\n",
    "</script>\n",
    "To toggle on/off output_stderr, click <a href=\"javascript:code_toggle_err()\">here</a>.''')"
   ]
  },
  {
   "cell_type": "markdown",
   "metadata": {},
   "source": [
    "# Udacity Machine Learning Final Project\n",
    "## Looking for persons of interest in the Enron dataset\n",
    "##### Christopher B. Johnson"
   ]
  },
  {
   "cell_type": "markdown",
   "metadata": {},
   "source": [
    "### Project setup\n",
    "This project uses scikit-learn version 0.19 and Python 2.7.  There is an Anaconda setup file called condaEnv_udMLproject.txt in the root directory of the git repository. A number of the code blocks are hidden, so for more information on those, please reference the notebook source. References to source information that was used to finish this project is present in the relevant section of code comments."
   ]
  },
  {
   "cell_type": "code",
   "execution_count": 2,
   "metadata": {
    "ExecuteTime": {
     "end_time": "2019-01-13T04:52:24.351000Z",
     "start_time": "2019-01-13T04:52:24.070000Z"
    },
    "hide_input": true
   },
   "outputs": [],
   "source": [
    "# Configuration items\n",
    "%matplotlib inline\n",
    "\n",
    "import matplotlib\n",
    "import matplotlib.pyplot\n",
    "\n",
    "# change default size of graphs\n",
    "# https://stackoverflow.com/questions/36367986/how-to-make-inline-plots-in-jupyter-notebook-larger\n",
    "matplotlib.pyplot.rcParams['figure.figsize'] = [8, 5]"
   ]
  },
  {
   "cell_type": "markdown",
   "metadata": {},
   "source": [
    "## Objective"
   ]
  },
  {
   "cell_type": "markdown",
   "metadata": {
    "collapsed": true
   },
   "source": [
    "This project is divided into the following sections :\n",
    "- Data Exploration : examine the data and features\n",
    "- Outlier consideration : find any data points that should be removed\n",
    "- Create features : based on the data exploration, create new feature sets\n",
    "- Classifier exploration : look at a variety of classifiers and their default performance\n",
    "- Classifier tuning : Choose some promising classifiers and tune them for max performance against final dataset\n",
    "- Final results"
   ]
  },
  {
   "cell_type": "markdown",
   "metadata": {},
   "source": [
    "## Data Exploration"
   ]
  },
  {
   "cell_type": "markdown",
   "metadata": {},
   "source": [
    "#### Number of entries in the initial data set : 146\n",
    "#### Number of persons of interest : 18\n",
    "\n",
    "However, in the initial dataset, there is one entry called 'TOTAL' which I found as an outlier and removed, for a new total of 145.\n",
    "\n",
    "I gathered what I thought might be some useful information about the initial dataset to support feature selection, such as how many valid values were in each feature, and how many poi's were part of each feature.  Also, looking at the max and min values for each feature helped identify problems down the road, where using chi2 as part of SelectKBest only works with positive values, which was quickly identifiable in the metadata.\n",
    "\n",
    "I also looked at some visualizations of the data as I looked for outliers and possible opportunities to create new features.\n",
    "\n",
    "#### Feature Metadata"
   ]
  },
  {
   "cell_type": "code",
   "execution_count": 3,
   "metadata": {
    "ExecuteTime": {
     "end_time": "2019-01-13T04:52:24.999000Z",
     "start_time": "2019-01-13T04:52:24.355000Z"
    },
    "hide_input": false
   },
   "outputs": [
    {
     "data": {
      "text/html": [
       "<div>\n",
       "<style scoped>\n",
       "    .dataframe tbody tr th:only-of-type {\n",
       "        vertical-align: middle;\n",
       "    }\n",
       "\n",
       "    .dataframe tbody tr th {\n",
       "        vertical-align: top;\n",
       "    }\n",
       "\n",
       "    .dataframe thead th {\n",
       "        text-align: right;\n",
       "    }\n",
       "</style>\n",
       "<table border=\"1\" class=\"dataframe\">\n",
       "  <thead>\n",
       "    <tr style=\"text-align: right;\">\n",
       "      <th></th>\n",
       "      <th>max</th>\n",
       "      <th>poiCount</th>\n",
       "      <th>valid count</th>\n",
       "      <th>min</th>\n",
       "      <th>percent valid values</th>\n",
       "      <th>percent poi to total</th>\n",
       "    </tr>\n",
       "  </thead>\n",
       "  <tbody>\n",
       "    <tr>\n",
       "      <th>bonus</th>\n",
       "      <td>8000000</td>\n",
       "      <td>16</td>\n",
       "      <td>81</td>\n",
       "      <td>0</td>\n",
       "      <td>0.558621</td>\n",
       "      <td>0.197531</td>\n",
       "    </tr>\n",
       "    <tr>\n",
       "      <th>deferral_payments</th>\n",
       "      <td>6426990</td>\n",
       "      <td>5</td>\n",
       "      <td>38</td>\n",
       "      <td>-102500</td>\n",
       "      <td>0.262069</td>\n",
       "      <td>0.131579</td>\n",
       "    </tr>\n",
       "    <tr>\n",
       "      <th>deferred_income</th>\n",
       "      <td>0</td>\n",
       "      <td>11</td>\n",
       "      <td>48</td>\n",
       "      <td>-3504386</td>\n",
       "      <td>0.331034</td>\n",
       "      <td>0.229167</td>\n",
       "    </tr>\n",
       "    <tr>\n",
       "      <th>director_fees</th>\n",
       "      <td>137864</td>\n",
       "      <td>0</td>\n",
       "      <td>16</td>\n",
       "      <td>0</td>\n",
       "      <td>0.110345</td>\n",
       "      <td>0.000000</td>\n",
       "    </tr>\n",
       "    <tr>\n",
       "      <th>exercised_stock_options</th>\n",
       "      <td>34348384</td>\n",
       "      <td>12</td>\n",
       "      <td>101</td>\n",
       "      <td>0</td>\n",
       "      <td>0.696552</td>\n",
       "      <td>0.118812</td>\n",
       "    </tr>\n",
       "    <tr>\n",
       "      <th>expenses</th>\n",
       "      <td>228763</td>\n",
       "      <td>18</td>\n",
       "      <td>94</td>\n",
       "      <td>0</td>\n",
       "      <td>0.648276</td>\n",
       "      <td>0.191489</td>\n",
       "    </tr>\n",
       "    <tr>\n",
       "      <th>fraction_from_poi</th>\n",
       "      <td>0.217341</td>\n",
       "      <td>18</td>\n",
       "      <td>145</td>\n",
       "      <td>0</td>\n",
       "      <td>1.000000</td>\n",
       "      <td>0.124138</td>\n",
       "    </tr>\n",
       "    <tr>\n",
       "      <th>fraction_to_poi</th>\n",
       "      <td>1</td>\n",
       "      <td>18</td>\n",
       "      <td>145</td>\n",
       "      <td>0</td>\n",
       "      <td>1.000000</td>\n",
       "      <td>0.124138</td>\n",
       "    </tr>\n",
       "    <tr>\n",
       "      <th>from_messages</th>\n",
       "      <td>14368</td>\n",
       "      <td>14</td>\n",
       "      <td>86</td>\n",
       "      <td>0</td>\n",
       "      <td>0.593103</td>\n",
       "      <td>0.162791</td>\n",
       "    </tr>\n",
       "    <tr>\n",
       "      <th>from_poi_to_this_person</th>\n",
       "      <td>528</td>\n",
       "      <td>14</td>\n",
       "      <td>86</td>\n",
       "      <td>0</td>\n",
       "      <td>0.593103</td>\n",
       "      <td>0.162791</td>\n",
       "    </tr>\n",
       "    <tr>\n",
       "      <th>from_this_person_to_poi</th>\n",
       "      <td>609</td>\n",
       "      <td>14</td>\n",
       "      <td>86</td>\n",
       "      <td>0</td>\n",
       "      <td>0.593103</td>\n",
       "      <td>0.162791</td>\n",
       "    </tr>\n",
       "    <tr>\n",
       "      <th>loan_advances</th>\n",
       "      <td>2000000</td>\n",
       "      <td>1</td>\n",
       "      <td>3</td>\n",
       "      <td>0</td>\n",
       "      <td>0.020690</td>\n",
       "      <td>0.333333</td>\n",
       "    </tr>\n",
       "    <tr>\n",
       "      <th>long_term_incentive</th>\n",
       "      <td>5145434</td>\n",
       "      <td>12</td>\n",
       "      <td>65</td>\n",
       "      <td>0</td>\n",
       "      <td>0.448276</td>\n",
       "      <td>0.184615</td>\n",
       "    </tr>\n",
       "    <tr>\n",
       "      <th>other</th>\n",
       "      <td>10359729</td>\n",
       "      <td>18</td>\n",
       "      <td>92</td>\n",
       "      <td>0</td>\n",
       "      <td>0.634483</td>\n",
       "      <td>0.195652</td>\n",
       "    </tr>\n",
       "    <tr>\n",
       "      <th>poi</th>\n",
       "      <td>True</td>\n",
       "      <td>18</td>\n",
       "      <td>145</td>\n",
       "      <td>0</td>\n",
       "      <td>1.000000</td>\n",
       "      <td>0.124138</td>\n",
       "    </tr>\n",
       "    <tr>\n",
       "      <th>restricted_stock</th>\n",
       "      <td>14761694</td>\n",
       "      <td>17</td>\n",
       "      <td>109</td>\n",
       "      <td>-2604490</td>\n",
       "      <td>0.751724</td>\n",
       "      <td>0.155963</td>\n",
       "    </tr>\n",
       "    <tr>\n",
       "      <th>restricted_stock_deferred</th>\n",
       "      <td>15456290</td>\n",
       "      <td>0</td>\n",
       "      <td>17</td>\n",
       "      <td>-1787380</td>\n",
       "      <td>0.117241</td>\n",
       "      <td>0.000000</td>\n",
       "    </tr>\n",
       "    <tr>\n",
       "      <th>salary</th>\n",
       "      <td>1111258</td>\n",
       "      <td>17</td>\n",
       "      <td>94</td>\n",
       "      <td>0</td>\n",
       "      <td>0.648276</td>\n",
       "      <td>0.180851</td>\n",
       "    </tr>\n",
       "    <tr>\n",
       "      <th>shared_receipt_with_poi</th>\n",
       "      <td>5521</td>\n",
       "      <td>14</td>\n",
       "      <td>86</td>\n",
       "      <td>0</td>\n",
       "      <td>0.593103</td>\n",
       "      <td>0.162791</td>\n",
       "    </tr>\n",
       "    <tr>\n",
       "      <th>significant_poi_email_activity</th>\n",
       "      <td>1</td>\n",
       "      <td>18</td>\n",
       "      <td>145</td>\n",
       "      <td>0</td>\n",
       "      <td>1.000000</td>\n",
       "      <td>0.124138</td>\n",
       "    </tr>\n",
       "    <tr>\n",
       "      <th>to_messages</th>\n",
       "      <td>15149</td>\n",
       "      <td>14</td>\n",
       "      <td>86</td>\n",
       "      <td>0</td>\n",
       "      <td>0.593103</td>\n",
       "      <td>0.162791</td>\n",
       "    </tr>\n",
       "    <tr>\n",
       "      <th>totalExpenses</th>\n",
       "      <td>185387536</td>\n",
       "      <td>18</td>\n",
       "      <td>145</td>\n",
       "      <td>0</td>\n",
       "      <td>1.000000</td>\n",
       "      <td>0.124138</td>\n",
       "    </tr>\n",
       "    <tr>\n",
       "      <th>totalIncome</th>\n",
       "      <td>191117477</td>\n",
       "      <td>18</td>\n",
       "      <td>145</td>\n",
       "      <td>-121284</td>\n",
       "      <td>1.000000</td>\n",
       "      <td>0.124138</td>\n",
       "    </tr>\n",
       "    <tr>\n",
       "      <th>total_payments</th>\n",
       "      <td>103559793</td>\n",
       "      <td>18</td>\n",
       "      <td>124</td>\n",
       "      <td>0</td>\n",
       "      <td>0.855172</td>\n",
       "      <td>0.145161</td>\n",
       "    </tr>\n",
       "    <tr>\n",
       "      <th>total_stock_value</th>\n",
       "      <td>49110078</td>\n",
       "      <td>18</td>\n",
       "      <td>125</td>\n",
       "      <td>-44093</td>\n",
       "      <td>0.862069</td>\n",
       "      <td>0.144000</td>\n",
       "    </tr>\n",
       "  </tbody>\n",
       "</table>\n",
       "</div>"
      ],
      "text/plain": [
       "                                      max  poiCount  valid count      min  \\\n",
       "bonus                             8000000        16           81        0   \n",
       "deferral_payments                 6426990         5           38  -102500   \n",
       "deferred_income                         0        11           48 -3504386   \n",
       "director_fees                      137864         0           16        0   \n",
       "exercised_stock_options          34348384        12          101        0   \n",
       "expenses                           228763        18           94        0   \n",
       "fraction_from_poi                0.217341        18          145        0   \n",
       "fraction_to_poi                         1        18          145        0   \n",
       "from_messages                       14368        14           86        0   \n",
       "from_poi_to_this_person               528        14           86        0   \n",
       "from_this_person_to_poi               609        14           86        0   \n",
       "loan_advances                     2000000         1            3        0   \n",
       "long_term_incentive               5145434        12           65        0   \n",
       "other                            10359729        18           92        0   \n",
       "poi                                  True        18          145        0   \n",
       "restricted_stock                 14761694        17          109 -2604490   \n",
       "restricted_stock_deferred        15456290         0           17 -1787380   \n",
       "salary                            1111258        17           94        0   \n",
       "shared_receipt_with_poi              5521        14           86        0   \n",
       "significant_poi_email_activity          1        18          145        0   \n",
       "to_messages                         15149        14           86        0   \n",
       "totalExpenses                   185387536        18          145        0   \n",
       "totalIncome                     191117477        18          145  -121284   \n",
       "total_payments                  103559793        18          124        0   \n",
       "total_stock_value                49110078        18          125   -44093   \n",
       "\n",
       "                                percent valid values  percent poi to total  \n",
       "bonus                                       0.558621              0.197531  \n",
       "deferral_payments                           0.262069              0.131579  \n",
       "deferred_income                             0.331034              0.229167  \n",
       "director_fees                               0.110345              0.000000  \n",
       "exercised_stock_options                     0.696552              0.118812  \n",
       "expenses                                    0.648276              0.191489  \n",
       "fraction_from_poi                           1.000000              0.124138  \n",
       "fraction_to_poi                             1.000000              0.124138  \n",
       "from_messages                               0.593103              0.162791  \n",
       "from_poi_to_this_person                     0.593103              0.162791  \n",
       "from_this_person_to_poi                     0.593103              0.162791  \n",
       "loan_advances                               0.020690              0.333333  \n",
       "long_term_incentive                         0.448276              0.184615  \n",
       "other                                       0.634483              0.195652  \n",
       "poi                                         1.000000              0.124138  \n",
       "restricted_stock                            0.751724              0.155963  \n",
       "restricted_stock_deferred                   0.117241              0.000000  \n",
       "salary                                      0.648276              0.180851  \n",
       "shared_receipt_with_poi                     0.593103              0.162791  \n",
       "significant_poi_email_activity              1.000000              0.124138  \n",
       "to_messages                                 0.593103              0.162791  \n",
       "totalExpenses                               1.000000              0.124138  \n",
       "totalIncome                                 1.000000              0.124138  \n",
       "total_payments                              0.855172              0.145161  \n",
       "total_stock_value                           0.862069              0.144000  "
      ]
     },
     "execution_count": 3,
     "metadata": {},
     "output_type": "execute_result"
    }
   ],
   "source": [
    "import pickle\n",
    "import pandas as pd\n",
    "import numpy as np\n",
    "from toolsDataExploration import getMetadata\n",
    "from toolsFeatureSelection import normalizeEmailMessages,calcTotalMonetaryValues,significantPoiEmailActivity\n",
    "\n",
    "# https://pandas.pydata.org/pandas-docs/stable/generated/pandas.DataFrame.from_dict.html\n",
    "# https://kaijento.github.io/2017/04/22/pandas-create-new-column-sum/\n",
    "# https://stackoverflow.com/questions/13575090/construct-pandas-dataframe-from-items-in-nested-dictionary\n",
    "# get dictionary from dataset\n",
    "\n",
    "### Load the dictionary containing the dataset\n",
    "with open(\"final_project_dataset.pkl\", \"r\") as data_file:\n",
    "    data_dict = pickle.load(data_file)\n",
    "\n",
    "# get rid of total line from spreadsheet\n",
    "data_dict.pop('TOTAL',None)\n",
    "\n",
    "### Task 3: Create new feature(s)\n",
    "# like the email example in L12Q4\n",
    "### Store to my_dataset for easy export below.\n",
    "my_dataset = normalizeEmailMessages(data_dict)\n",
    "# create another new feature which is significant_poi_email_activity (>2% from, >17% to)\n",
    "# However, I've simply summed up the activity, so the %to+%from poi's > 0.2 is significant\n",
    "my_dataset = significantPoiEmailActivity(my_dataset)\n",
    "\n",
    "# also summarize income and expenses as new features\n",
    "my_dataset = calcTotalMonetaryValues(my_dataset)\n",
    "    \n",
    "dictMetadata, totalLen = getMetadata(my_dataset)\n",
    "#df = pd.DataFrame.from_dict(dictMetadata, orient='index')\n",
    "df = pd.DataFrame.from_dict({(i): dictMetadata[i] \n",
    "                             for i in dictMetadata.keys()}, \n",
    "                            orient='index')\n",
    "df['percent valid values'] = df['valid count']/totalLen\n",
    "df['percent poi to total'] = df['poiCount']/df['valid count']\n",
    "df"
   ]
  },
  {
   "cell_type": "markdown",
   "metadata": {},
   "source": [
    "### And if more data is always better than a clever algorithm...\n",
    "then I am seriously considering removing features that have very little usable data, such as loan_advances, and director_fees, since a few poi's in either of those categories may cause incorrect overfitting. It's hard to say at this point, since they may also be genuine indicators.\n",
    "\n",
    "But first, let's examine the features to determine which ones are the most useful by scoring them with a univariate SelectKBest algorithm. I'm actually surprised that director_fees scored as highly as it did with so little data."
   ]
  },
  {
   "cell_type": "code",
   "execution_count": 4,
   "metadata": {
    "ExecuteTime": {
     "end_time": "2019-01-13T04:52:25.487000Z",
     "start_time": "2019-01-13T04:52:25.002000Z"
    },
    "hide_input": true
   },
   "outputs": [
    {
     "data": {
      "text/html": [
       "<div>\n",
       "<style scoped>\n",
       "    .dataframe tbody tr th:only-of-type {\n",
       "        vertical-align: middle;\n",
       "    }\n",
       "\n",
       "    .dataframe tbody tr th {\n",
       "        vertical-align: top;\n",
       "    }\n",
       "\n",
       "    .dataframe thead th {\n",
       "        text-align: right;\n",
       "    }\n",
       "</style>\n",
       "<table border=\"1\" class=\"dataframe\">\n",
       "  <thead>\n",
       "    <tr style=\"text-align: right;\">\n",
       "      <th></th>\n",
       "      <th>Feature</th>\n",
       "      <th>Score</th>\n",
       "    </tr>\n",
       "  </thead>\n",
       "  <tbody>\n",
       "    <tr>\n",
       "      <th>9</th>\n",
       "      <td>exercised_stock_options</td>\n",
       "      <td>6927.477105</td>\n",
       "    </tr>\n",
       "    <tr>\n",
       "      <th>3</th>\n",
       "      <td>loan_advances</td>\n",
       "      <td>6742.747612</td>\n",
       "    </tr>\n",
       "    <tr>\n",
       "      <th>7</th>\n",
       "      <td>total_stock_value</td>\n",
       "      <td>5544.839651</td>\n",
       "    </tr>\n",
       "    <tr>\n",
       "      <th>4</th>\n",
       "      <td>bonus</td>\n",
       "      <td>5193.349260</td>\n",
       "    </tr>\n",
       "    <tr>\n",
       "      <th>0</th>\n",
       "      <td>salary</td>\n",
       "      <td>3116.643855</td>\n",
       "    </tr>\n",
       "    <tr>\n",
       "      <th>2</th>\n",
       "      <td>total_payments</td>\n",
       "      <td>2811.509128</td>\n",
       "    </tr>\n",
       "    <tr>\n",
       "      <th>11</th>\n",
       "      <td>long_term_incentive</td>\n",
       "      <td>2579.689857</td>\n",
       "    </tr>\n",
       "    <tr>\n",
       "      <th>18</th>\n",
       "      <td>shared_receipt_with_poi</td>\n",
       "      <td>2482.307124</td>\n",
       "    </tr>\n",
       "    <tr>\n",
       "      <th>10</th>\n",
       "      <td>other</td>\n",
       "      <td>1708.556798</td>\n",
       "    </tr>\n",
       "    <tr>\n",
       "      <th>8</th>\n",
       "      <td>expenses</td>\n",
       "      <td>1525.656574</td>\n",
       "    </tr>\n",
       "    <tr>\n",
       "      <th>13</th>\n",
       "      <td>director_fees</td>\n",
       "      <td>1489.217117</td>\n",
       "    </tr>\n",
       "    <tr>\n",
       "      <th>15</th>\n",
       "      <td>from_poi_to_this_person</td>\n",
       "      <td>1398.512394</td>\n",
       "    </tr>\n",
       "    <tr>\n",
       "      <th>17</th>\n",
       "      <td>from_this_person_to_poi</td>\n",
       "      <td>1019.639207</td>\n",
       "    </tr>\n",
       "    <tr>\n",
       "      <th>12</th>\n",
       "      <td>restricted_stock</td>\n",
       "      <td>595.438049</td>\n",
       "    </tr>\n",
       "    <tr>\n",
       "      <th>14</th>\n",
       "      <td>to_messages</td>\n",
       "      <td>451.110661</td>\n",
       "    </tr>\n",
       "    <tr>\n",
       "      <th>6</th>\n",
       "      <td>deferred_income</td>\n",
       "      <td>341.725794</td>\n",
       "    </tr>\n",
       "    <tr>\n",
       "      <th>16</th>\n",
       "      <td>from_messages</td>\n",
       "      <td>66.521993</td>\n",
       "    </tr>\n",
       "    <tr>\n",
       "      <th>1</th>\n",
       "      <td>deferral_payments</td>\n",
       "      <td>58.560878</td>\n",
       "    </tr>\n",
       "    <tr>\n",
       "      <th>5</th>\n",
       "      <td>restricted_stock_deferred</td>\n",
       "      <td>3.455728</td>\n",
       "    </tr>\n",
       "  </tbody>\n",
       "</table>\n",
       "</div>"
      ],
      "text/plain": [
       "                      Feature        Score\n",
       "9     exercised_stock_options  6927.477105\n",
       "3               loan_advances  6742.747612\n",
       "7           total_stock_value  5544.839651\n",
       "4                       bonus  5193.349260\n",
       "0                      salary  3116.643855\n",
       "2              total_payments  2811.509128\n",
       "11        long_term_incentive  2579.689857\n",
       "18    shared_receipt_with_poi  2482.307124\n",
       "10                      other  1708.556798\n",
       "8                    expenses  1525.656574\n",
       "13              director_fees  1489.217117\n",
       "15    from_poi_to_this_person  1398.512394\n",
       "17    from_this_person_to_poi  1019.639207\n",
       "12           restricted_stock   595.438049\n",
       "14                to_messages   451.110661\n",
       "6             deferred_income   341.725794\n",
       "16              from_messages    66.521993\n",
       "1           deferral_payments    58.560878\n",
       "5   restricted_stock_deferred     3.455728"
      ]
     },
     "execution_count": 4,
     "metadata": {},
     "output_type": "execute_result"
    }
   ],
   "source": [
    "from toolsFeatureSelection import calcKBest\n",
    "from feature_format2 import featureFormat\n",
    "from sklearn.preprocessing import MinMaxScaler\n",
    "\n",
    "# https://towardsdatascience.com/feature-selection-techniques-in-machine-learning-with-python-f24e7da3f36e\n",
    "\n",
    "features_list = ['poi',\n",
    "                 'salary',\n",
    "                 'deferral_payments',\n",
    "                 'total_payments',\n",
    "                 'loan_advances',\n",
    "                 'bonus',\n",
    "                 'restricted_stock_deferred',\n",
    "                 'deferred_income',\n",
    "                 'total_stock_value',\n",
    "                 'expenses',\n",
    "                 'exercised_stock_options',\n",
    "                 'other',\n",
    "                 'long_term_incentive',\n",
    "                 'restricted_stock',\n",
    "                 'director_fees',\n",
    "                 'to_messages',\n",
    "                 'from_poi_to_this_person',\n",
    "                 'from_messages',\n",
    "                 'from_this_person_to_poi',\n",
    "                 'shared_receipt_with_poi'\n",
    "                 ]\n",
    "cleanedData = featureFormat(data_dict, features_list, removePOI=False)\n",
    "mmScaler = MinMaxScaler(feature_range=(0,1000))\n",
    "resultsScaled = mmScaler.fit_transform(cleanedData)\n",
    "fit, Xnew, featureScores = calcKBest(resultsScaled, features_list, 10)\n",
    "featureScores.nlargest(len(featureScores), 'Score')"
   ]
  },
  {
   "cell_type": "markdown",
   "metadata": {},
   "source": [
    "Looking at these scores, it seems that after about 10 features or so, there is very little value in the remaining features (at least while using a chi^2 scoring function). And in order to use that, I needed to remove the negative values, so I ran it through a MinMaxScaler.  However, in looking at some of the datapoints, several data rich features appeared to go to 0.00000 after re-scaling.  This makes sense when considering that many of the data points ranged from negative numbers to the millions of dollars, which would require at least 6 decimal places of precision. I was unsure as to whether or not this was simply a display precision result or if the values were actually truncated, so I changed the range of the MinMaxScaler to run from 0-1000, which made the data look better upon inspection if nothing else.  "
   ]
  },
  {
   "cell_type": "markdown",
   "metadata": {},
   "source": [
    "### Data Visualizations\n",
    "\n",
    "Next, I made some scatter plots of features I thought might be interesting. Persons of interest are highlighted as blue diamonds, and everyone else is a yellow cross. I was mostly disappointed with the results though. Either the outliers were valid persons of interest, or everyone tended to bunch up or line up in ways that did not make it obvious how to separated the data."
   ]
  },
  {
   "cell_type": "code",
   "execution_count": 5,
   "metadata": {
    "ExecuteTime": {
     "end_time": "2019-01-13T04:52:30.434000Z",
     "start_time": "2019-01-13T04:52:25.492000Z"
    },
    "hide_input": true,
    "scrolled": false
   },
   "outputs": [
    {
     "data": {
      "image/png": "[encoded data removed]",
      "text/plain": [
       "<matplotlib.figure.Figure at 0x849a748>"
      ]
     },
     "metadata": {
      "needs_background": "light"
     },
     "output_type": "display_data"
    },
    {
     "data": {
      "image/png": "[encoded data removed]",
      "text/plain": [
       "<matplotlib.figure.Figure at 0xc97eef0>"
      ]
     },
     "metadata": {
      "needs_background": "light"
     },
     "output_type": "display_data"
    },
    {
     "data": {
      "image/png": "[encoded data removed]",
      "text/plain": [
       "<matplotlib.figure.Figure at 0xca53780>"
      ]
     },
     "metadata": {
      "needs_background": "light"
     },
     "output_type": "display_data"
    },
    {
     "data": {
      "image/png": "[encoded data removed]",
      "text/plain": [
       "<matplotlib.figure.Figure at 0xcab8e80>"
      ]
     },
     "metadata": {
      "needs_background": "light"
     },
     "output_type": "display_data"
    },
    {
     "data": {
      "image/png": "[encoded data removed]",
      "text/plain": [
       "<matplotlib.figure.Figure at 0xcfef278>"
      ]
     },
     "metadata": {
      "needs_background": "light"
     },
     "output_type": "display_data"
    },
    {
     "data": {
      "image/png": "[encoded data removed]",
      "text/plain": [
       "<matplotlib.figure.Figure at 0xd0fbdd8>"
      ]
     },
     "metadata": {
      "needs_background": "light"
     },
     "output_type": "display_data"
    },
    {
     "data": {
      "image/png": "[encoded data removed]",
      "text/plain": [
       "<matplotlib.figure.Figure at 0x84a1048>"
      ]
     },
     "metadata": {
      "needs_background": "light"
     },
     "output_type": "display_data"
    },
    {
     "data": {
      "image/png": "[encoded data removed]",
      "text/plain": [
       "<matplotlib.figure.Figure at 0xd8d8e10>"
      ]
     },
     "metadata": {
      "needs_background": "light"
     },
     "output_type": "display_data"
    },
    {
     "data": {
      "image/png": "[encoded data removed]",
      "text/plain": [
       "<matplotlib.figure.Figure at 0xc70d208>"
      ]
     },
     "metadata": {
      "needs_background": "light"
     },
     "output_type": "display_data"
    },
    {
     "data": {
      "image/png": "[encoded data removed]",
      "text/plain": [
       "<matplotlib.figure.Figure at 0xdce6f98>"
      ]
     },
     "metadata": {
      "needs_background": "light"
     },
     "output_type": "display_data"
    },
    {
     "data": {
      "image/png": "[encoded data removed]",
      "text/plain": [
       "<matplotlib.figure.Figure at 0xcd55470>"
      ]
     },
     "metadata": {
      "needs_background": "light"
     },
     "output_type": "display_data"
    }
   ],
   "source": [
    "from toolsDataExploration import visualInspect\n",
    "# now visualize some feature pairs to look for outliers\n",
    "visualizeList = [\n",
    "    ['poi', 'totalIncome', 'totalExpenses'],\n",
    "    ['poi','salary','bonus'],\n",
    "    ['poi','deferral_payments','deferred_income'],\n",
    "    ['poi','total_payments','total_stock_value'],\n",
    "    ['poi','restricted_stock','restricted_stock_deferred'],\n",
    "    ['poi','to_messages','from_messages'],\n",
    "    ['poi','long_term_incentive','expenses'],\n",
    "    ['poi','deferral_payments','long_term_incentive'],\n",
    "    ['poi','deferred_income','expenses'],\n",
    "    ['poi','exercised_stock_options','deferred_income'],\n",
    "    ['poi', 'other', 'long_term_incentive'],\n",
    "]\n",
    "for featureList in visualizeList:\n",
    "    visualInspect(featureList, data_dict)"
   ]
  },
  {
   "cell_type": "markdown",
   "metadata": {},
   "source": [
    "#### Looking for outliers\n",
    "Within the visualization function, I also had scripted a call to calcOutliers, which calculated the IQR of each feature and reported back the names of the people who were outside the 1.5 * IQR from the first and third quarters (the whiskers of the boxplot).  Since it is rather messy, part of one example is below : The outlier limits are ordered as (feature_1 (x-axis) Q1 - IQR * 1.5, feature_1 (x-axis) Q3 + IQR * 1.5, feature_2 (y-axis) Q1 - IQR * 1.5, feature_2 (y-axis) Q3 + IQR * 1.5)\n",
    "\n",
    "outlier limits :  195563.5 313183.5 550000.0 950000.0<br>\n",
    "salary ----- METTS MARK === 365788<br>\n",
    "bonus ----- BAXTER JOHN C === 1200000<br>\n",
    "salary ----- ELLIOTT STEVEN === 170941<br>\n",
    "bonus ----- ELLIOTT STEVEN === 350000<br>\n",
    "bonus ----- HANNON KEVIN P === 1500000<br>\n",
    "bonus ----- MORDAUNT KRISTINA M === 325000<br>\n",
    "salary ----- MCMAHON JEFFREY === 370448<br>\n",
    "bonus ----- MCMAHON JEFFREY === 2600000<br>\n",
    "bonus ----- PIPER GREGORY F === 400000<br>\n",
    "salary ----- HUMPHREY GENE E === 130724<br>\n",
    "bonus ----- COLWELL WESLEY === 1200000<br>\n",
    "bonus ----- MULLER MARK S === 1100000<br>\n",
    "bonus ----- JACKSON CHARLENE R === 250000<br>\n",
    "salary ----- WESTFAHL RICHARD K === 63744<br>\n",
    "salary ----- WALLS JR ROBERT H === 357091<br>\n",
    "bonus ----- KITCHEN LOUISE === 3100000<br>\n",
    "bonus ----- SHANKMAN JEFFREY A === 2000000<br>\n",
    "salary ----- BERGSIEKER RICHARD P === 187922<br>\n",
    "bonus ----- BERGSIEKER RICHARD P === 250000<br>\n",
    "bonus ----- BIBI PHILIPPE A === 1000000<br>\n",
    "...\n",
    "\n",
    "This was done to look for anything odd, like a title of TOTAL, which I removed from the dataset as an obvious outlier. The problem with doing further outlier removal (like the top 10% of outliers) was that they were in fact, valid people, who, to use Ken Lay as an example, might be actual persons of interest, so I chose to not reduce the dataset any further."
   ]
  },
  {
   "cell_type": "markdown",
   "metadata": {},
   "source": [
    "### Add features\n",
    "Since many of the email features did not have good scores, let's combine some of them to try to find some more meaning, since perhaps the whole is greater than the parts.\n",
    "\n",
    "First we'll create 2 new features :\n",
    "- 'fraction_from_poi'\n",
    "- 'fraction_to_poi'\n",
    "which represent the percent of emails that are sent by each person either to or from a person of interest."
   ]
  },
  {
   "cell_type": "code",
   "execution_count": 6,
   "metadata": {
    "ExecuteTime": {
     "end_time": "2019-01-13T04:52:30.446000Z",
     "start_time": "2019-01-13T04:52:30.439000Z"
    },
    "hide_input": true
   },
   "outputs": [],
   "source": [
    "from toolsFeatureSelection import normalizeEmailMessages\n",
    "my_dataset = normalizeEmailMessages(data_dict)"
   ]
  },
  {
   "cell_type": "markdown",
   "metadata": {},
   "source": [
    "#### Plot fractions and other thoughts\n",
    "\n",
    "In hindsight, perhaps I could have done more with the deferred_income vs. exercised_stock_options plot, as it had almost half of the poi's separated out.  However, I started with what we had looked at in the Udacity exercises to create a fraction of emails to and from pois.\n",
    "\n",
    "This definitely made the best grouping of pois relative to the previous scatterplots. I then took this and made another feature called 'significant_poi_email_activity', which set a boolean for everyone who had the sum of fraction_to_poi+fraction_from_poi > 0.2 in an effort to reduce noise in the data."
   ]
  },
  {
   "cell_type": "code",
   "execution_count": 7,
   "metadata": {
    "ExecuteTime": {
     "end_time": "2019-01-13T04:52:30.740000Z",
     "start_time": "2019-01-13T04:52:30.451000Z"
    },
    "hide_input": true
   },
   "outputs": [
    {
     "data": {
      "image/png": "[encoded data removed]",
      "text/plain": [
       "<matplotlib.figure.Figure at 0x849ab38>"
      ]
     },
     "metadata": {
      "needs_background": "light"
     },
     "output_type": "display_data"
    }
   ],
   "source": [
    "# visualize result\n",
    "visFeatures = ['poi', 'fraction_from_poi', 'fraction_to_poi']\n",
    "visualInspect(visFeatures, my_dataset)"
   ]
  },
  {
   "cell_type": "markdown",
   "metadata": {},
   "source": [
    "Next we'll do something similar to the income and expenses for each individual.\n",
    "totalExpenses consist of :\n",
    "- deferral_payments\n",
    "- director_fees\n",
    "- expenses\n",
    "- loan_advances\n",
    "- total_payments\n",
    "\n",
    "totalIncome consists of :\n",
    "- bonus\n",
    "- deferred_income\n",
    "- exercised_stock_options\n",
    "- loan_advances\n",
    "- long_term_incentive\n",
    "- restricted_stock\n",
    "- restricted_stock_deferred\n",
    "- salary\n",
    "- total_stock_value\n",
    "\n",
    "This plot did not seem to be that valuable."
   ]
  },
  {
   "cell_type": "code",
   "execution_count": 8,
   "metadata": {
    "ExecuteTime": {
     "end_time": "2019-01-13T04:52:30.752000Z",
     "start_time": "2019-01-13T04:52:30.744000Z"
    },
    "hide_input": true
   },
   "outputs": [],
   "source": [
    "from toolsFeatureSelection import calcTotalMonetaryValues\n",
    "my_dataset = calcTotalMonetaryValues(my_dataset)"
   ]
  },
  {
   "cell_type": "code",
   "execution_count": 9,
   "metadata": {
    "ExecuteTime": {
     "end_time": "2019-01-13T04:52:31.184000Z",
     "start_time": "2019-01-13T04:52:30.758000Z"
    },
    "hide_input": true
   },
   "outputs": [
    {
     "data": {
      "image/png": "[encoded data removed]",
      "text/plain": [
       "<matplotlib.figure.Figure at 0xd2b3eb8>"
      ]
     },
     "metadata": {
      "needs_background": "light"
     },
     "output_type": "display_data"
    }
   ],
   "source": [
    "# visualize result\n",
    "visFeatures = ['poi', 'totalIncome', 'totalExpenses']\n",
    "visualInspect(visFeatures, my_dataset)"
   ]
  },
  {
   "cell_type": "markdown",
   "metadata": {},
   "source": [
    "Now re-examine the highest scoring features. While the totalIncome and totalExpenses did not visually appear to add much value, they performed better than I expected in the scoring below."
   ]
  },
  {
   "cell_type": "code",
   "execution_count": 10,
   "metadata": {
    "ExecuteTime": {
     "end_time": "2019-01-13T04:52:31.769000Z",
     "start_time": "2019-01-13T04:52:31.188000Z"
    },
    "hide_input": true
   },
   "outputs": [
    {
     "data": {
      "text/html": [
       "<div>\n",
       "<style scoped>\n",
       "    .dataframe tbody tr th:only-of-type {\n",
       "        vertical-align: middle;\n",
       "    }\n",
       "\n",
       "    .dataframe tbody tr th {\n",
       "        vertical-align: top;\n",
       "    }\n",
       "\n",
       "    .dataframe thead th {\n",
       "        text-align: right;\n",
       "    }\n",
       "</style>\n",
       "<table border=\"1\" class=\"dataframe\">\n",
       "  <thead>\n",
       "    <tr style=\"text-align: right;\">\n",
       "      <th></th>\n",
       "      <th>Feature</th>\n",
       "      <th>Score</th>\n",
       "    </tr>\n",
       "  </thead>\n",
       "  <tbody>\n",
       "    <tr>\n",
       "      <th>23</th>\n",
       "      <td>significant_poi_email_activity</td>\n",
       "      <td>18514.285714</td>\n",
       "    </tr>\n",
       "    <tr>\n",
       "      <th>9</th>\n",
       "      <td>exercised_stock_options</td>\n",
       "      <td>6927.477105</td>\n",
       "    </tr>\n",
       "    <tr>\n",
       "      <th>3</th>\n",
       "      <td>loan_advances</td>\n",
       "      <td>6742.747612</td>\n",
       "    </tr>\n",
       "    <tr>\n",
       "      <th>7</th>\n",
       "      <td>total_stock_value</td>\n",
       "      <td>5544.839651</td>\n",
       "    </tr>\n",
       "    <tr>\n",
       "      <th>4</th>\n",
       "      <td>bonus</td>\n",
       "      <td>5193.349260</td>\n",
       "    </tr>\n",
       "    <tr>\n",
       "      <th>20</th>\n",
       "      <td>fraction_to_poi</td>\n",
       "      <td>4717.950582</td>\n",
       "    </tr>\n",
       "    <tr>\n",
       "      <th>21</th>\n",
       "      <td>totalIncome</td>\n",
       "      <td>4424.415509</td>\n",
       "    </tr>\n",
       "    <tr>\n",
       "      <th>22</th>\n",
       "      <td>totalExpenses</td>\n",
       "      <td>3246.454444</td>\n",
       "    </tr>\n",
       "    <tr>\n",
       "      <th>0</th>\n",
       "      <td>salary</td>\n",
       "      <td>3116.643855</td>\n",
       "    </tr>\n",
       "    <tr>\n",
       "      <th>2</th>\n",
       "      <td>total_payments</td>\n",
       "      <td>2811.509128</td>\n",
       "    </tr>\n",
       "    <tr>\n",
       "      <th>11</th>\n",
       "      <td>long_term_incentive</td>\n",
       "      <td>2579.689857</td>\n",
       "    </tr>\n",
       "    <tr>\n",
       "      <th>18</th>\n",
       "      <td>shared_receipt_with_poi</td>\n",
       "      <td>2482.307124</td>\n",
       "    </tr>\n",
       "    <tr>\n",
       "      <th>10</th>\n",
       "      <td>other</td>\n",
       "      <td>1708.556798</td>\n",
       "    </tr>\n",
       "    <tr>\n",
       "      <th>8</th>\n",
       "      <td>expenses</td>\n",
       "      <td>1525.656574</td>\n",
       "    </tr>\n",
       "    <tr>\n",
       "      <th>13</th>\n",
       "      <td>director_fees</td>\n",
       "      <td>1489.217117</td>\n",
       "    </tr>\n",
       "    <tr>\n",
       "      <th>15</th>\n",
       "      <td>from_poi_to_this_person</td>\n",
       "      <td>1398.512394</td>\n",
       "    </tr>\n",
       "    <tr>\n",
       "      <th>17</th>\n",
       "      <td>from_this_person_to_poi</td>\n",
       "      <td>1019.639207</td>\n",
       "    </tr>\n",
       "    <tr>\n",
       "      <th>19</th>\n",
       "      <td>fraction_from_poi</td>\n",
       "      <td>850.981256</td>\n",
       "    </tr>\n",
       "    <tr>\n",
       "      <th>12</th>\n",
       "      <td>restricted_stock</td>\n",
       "      <td>595.438049</td>\n",
       "    </tr>\n",
       "    <tr>\n",
       "      <th>14</th>\n",
       "      <td>to_messages</td>\n",
       "      <td>451.110661</td>\n",
       "    </tr>\n",
       "    <tr>\n",
       "      <th>6</th>\n",
       "      <td>deferred_income</td>\n",
       "      <td>341.725794</td>\n",
       "    </tr>\n",
       "    <tr>\n",
       "      <th>16</th>\n",
       "      <td>from_messages</td>\n",
       "      <td>66.521993</td>\n",
       "    </tr>\n",
       "    <tr>\n",
       "      <th>1</th>\n",
       "      <td>deferral_payments</td>\n",
       "      <td>58.560878</td>\n",
       "    </tr>\n",
       "    <tr>\n",
       "      <th>5</th>\n",
       "      <td>restricted_stock_deferred</td>\n",
       "      <td>3.455728</td>\n",
       "    </tr>\n",
       "  </tbody>\n",
       "</table>\n",
       "</div>"
      ],
      "text/plain": [
       "                           Feature         Score\n",
       "23  significant_poi_email_activity  18514.285714\n",
       "9          exercised_stock_options   6927.477105\n",
       "3                    loan_advances   6742.747612\n",
       "7                total_stock_value   5544.839651\n",
       "4                            bonus   5193.349260\n",
       "20                 fraction_to_poi   4717.950582\n",
       "21                     totalIncome   4424.415509\n",
       "22                   totalExpenses   3246.454444\n",
       "0                           salary   3116.643855\n",
       "2                   total_payments   2811.509128\n",
       "11             long_term_incentive   2579.689857\n",
       "18         shared_receipt_with_poi   2482.307124\n",
       "10                           other   1708.556798\n",
       "8                         expenses   1525.656574\n",
       "13                   director_fees   1489.217117\n",
       "15         from_poi_to_this_person   1398.512394\n",
       "17         from_this_person_to_poi   1019.639207\n",
       "19               fraction_from_poi    850.981256\n",
       "12                restricted_stock    595.438049\n",
       "14                     to_messages    451.110661\n",
       "6                  deferred_income    341.725794\n",
       "16                   from_messages     66.521993\n",
       "1                deferral_payments     58.560878\n",
       "5        restricted_stock_deferred      3.455728"
      ]
     },
     "execution_count": 10,
     "metadata": {},
     "output_type": "execute_result"
    }
   ],
   "source": [
    "newFeatureList = ['fraction_from_poi', 'fraction_to_poi', 'totalIncome', 'totalExpenses','significant_poi_email_activity']\n",
    "features_list.extend(newFeatureList)\n",
    "cleanedData = featureFormat(my_dataset, features_list)\n",
    "mmScaler = MinMaxScaler(feature_range=(0,1000))\n",
    "resultsScaled = mmScaler.fit_transform(cleanedData)\n",
    "fit, Xnew, featureScores = calcKBest(resultsScaled, features_list, 10)\n",
    "featureScores.nlargest(len(featureScores), 'Score')"
   ]
  },
  {
   "cell_type": "markdown",
   "metadata": {},
   "source": [
    "## Classifier Exploration\n",
    "I am going to use 25% of the data for testing. The data was cleaned of NaN's previously. All classifier calls support cross validation via GridSearchCV so that we can continue to call the same functions with or without tuning.\n",
    "\n",
    "We'll look at :\n",
    "- Support Vector Classifier (SVC)\n",
    "- Random Forest\n",
    "- AdaBoost\n",
    "- Gradient Tree Boosting\n",
    "- Gaussian Naive Bayes"
   ]
  },
  {
   "cell_type": "markdown",
   "metadata": {},
   "source": [
    "### Split the data\n",
    "Here I'm using the parameter 'stratify' in the train_test_split method to ensure that when it splits the data into testing and training sets, that each set has a portion of poi's. In this manner, it ensures that each slice of training and testing data is a microcosm of the whole dataset, which returns more balanced results."
   ]
  },
  {
   "cell_type": "code",
   "execution_count": 11,
   "metadata": {
    "ExecuteTime": {
     "end_time": "2019-01-13T04:52:32.330000Z",
     "start_time": "2019-01-13T04:52:31.774000Z"
    }
   },
   "outputs": [],
   "source": [
    "from sklearn.model_selection import train_test_split\n",
    "from feature_format2 import featureFormat\n",
    "\n",
    "cleanedData = featureFormat(my_dataset, features_list, removePOI=False)\n",
    "mmScaler = MinMaxScaler(feature_range=(0,1000))\n",
    "resultsScaled = mmScaler.fit_transform(cleanedData)\n",
    "fit, Xnew, featureScores = calcKBest(resultsScaled, features_list, 10)\n",
    "Xtrain, Xtest, yTrain, yTest = train_test_split(Xnew, cleanedData[:,0], \n",
    "                                                test_size=0.25, random_state=42, shuffle=True, stratify=cleanedData[:,0])\n",
    "clfData = {\n",
    "    'xtrain':Xtrain,\n",
    "    'xtest':Xtest,\n",
    "    'ytrain':yTrain,\n",
    "    'ytest':yTest\n",
    "}"
   ]
  },
  {
   "cell_type": "markdown",
   "metadata": {},
   "source": [
    "### Define scoring setup\n",
    "\n",
    "Each classifier is scored on accuracy, f1, recall and precision, as I found that accuracy alone is quite misleading. As you can see in the SVC below, I achieved an 87% accuracy with 0 recall and precision.  Due to the skewed dataset where most people are not pois, I can achieve that accuracy by simply declaring no pois (since they make up approximately 12% of the data).  So, recall and precision are based on false positives and true positives and better score how the classifier is performing. Better yet, f1 scores using recall and precision, so in this case, where I found that the final test dataset had high precision but low recall, I could try to find the best fit tuning for an f1 score to ensure that I don't completely sacrifice one score for another.\n",
    "\n",
    "The most promising classifiers for this dataset appeared to be the ensemble classifiers of RandomForest, AdaBoost, and GradientBoost."
   ]
  },
  {
   "cell_type": "code",
   "execution_count": 12,
   "metadata": {
    "ExecuteTime": {
     "end_time": "2019-01-13T04:52:32.352000Z",
     "start_time": "2019-01-13T04:52:32.336000Z"
    },
    "hide_input": false
   },
   "outputs": [],
   "source": [
    "from sklearn.metrics import make_scorer, precision_score, recall_score, accuracy_score, f1_score\n",
    "\n",
    "scorers = {\n",
    "    'precision_score': make_scorer(precision_score),\n",
    "    'recall_score': make_scorer(recall_score),\n",
    "    'accuracy_score': make_scorer(accuracy_score),\n",
    "    'f1_score': make_scorer(f1_score)\n",
    "}\n",
    "\n",
    "initialScoreSummary = pd.DataFrame(columns=['accuracy score', 'f1 score', 'recall score', 'precision score'])\n",
    "    "
   ]
  },
  {
   "cell_type": "markdown",
   "metadata": {},
   "source": [
    "#### SVC"
   ]
  },
  {
   "cell_type": "code",
   "execution_count": 13,
   "metadata": {
    "ExecuteTime": {
     "end_time": "2019-01-13T04:52:32.474000Z",
     "start_time": "2019-01-13T04:52:32.357000Z"
    },
    "hide_input": true
   },
   "outputs": [
    {
     "name": "stderr",
     "output_type": "stream",
     "text": [
      "C:\\Users\\cjohnso1\\Anaconda3\\envs\\udMachineLearningPy27\\lib\\site-packages\\sklearn\\metrics\\classification.py:1135: UndefinedMetricWarning: F-score is ill-defined and being set to 0.0 due to no predicted samples.\n",
      "  'precision', 'predicted', average, warn_for)\n",
      "C:\\Users\\cjohnso1\\Anaconda3\\envs\\udMachineLearningPy27\\lib\\site-packages\\sklearn\\metrics\\classification.py:1135: UndefinedMetricWarning: Precision is ill-defined and being set to 0.0 due to no predicted samples.\n",
      "  'precision', 'predicted', average, warn_for)\n"
     ]
    },
    {
     "data": {
      "text/html": [
       "<div>\n",
       "<style scoped>\n",
       "    .dataframe tbody tr th:only-of-type {\n",
       "        vertical-align: middle;\n",
       "    }\n",
       "\n",
       "    .dataframe tbody tr th {\n",
       "        vertical-align: top;\n",
       "    }\n",
       "\n",
       "    .dataframe thead th {\n",
       "        text-align: right;\n",
       "    }\n",
       "</style>\n",
       "<table border=\"1\" class=\"dataframe\">\n",
       "  <thead>\n",
       "    <tr style=\"text-align: right;\">\n",
       "      <th></th>\n",
       "      <th>mean_train_accuracy_score</th>\n",
       "      <th>mean_train_f1_score</th>\n",
       "      <th>mean_train_recall_score</th>\n",
       "      <th>mean_train_precision_score</th>\n",
       "    </tr>\n",
       "  </thead>\n",
       "  <tbody>\n",
       "    <tr>\n",
       "      <th>0</th>\n",
       "      <td>1.0</td>\n",
       "      <td>1.0</td>\n",
       "      <td>1.0</td>\n",
       "      <td>1.0</td>\n",
       "    </tr>\n",
       "  </tbody>\n",
       "</table>\n",
       "</div>"
      ],
      "text/plain": [
       "   mean_train_accuracy_score  mean_train_f1_score  mean_train_recall_score  \\\n",
       "0                        1.0                  1.0                      1.0   \n",
       "\n",
       "   mean_train_precision_score  \n",
       "0                         1.0  "
      ]
     },
     "metadata": {},
     "output_type": "display_data"
    },
    {
     "data": {
      "text/html": [
       "<div>\n",
       "<style scoped>\n",
       "    .dataframe tbody tr th:only-of-type {\n",
       "        vertical-align: middle;\n",
       "    }\n",
       "\n",
       "    .dataframe tbody tr th {\n",
       "        vertical-align: top;\n",
       "    }\n",
       "\n",
       "    .dataframe thead th {\n",
       "        text-align: right;\n",
       "    }\n",
       "</style>\n",
       "<table border=\"1\" class=\"dataframe\">\n",
       "  <thead>\n",
       "    <tr style=\"text-align: right;\">\n",
       "      <th></th>\n",
       "      <th>mean_test_accuracy_score</th>\n",
       "      <th>mean_test_f1_score</th>\n",
       "      <th>mean_test_recall_score</th>\n",
       "      <th>mean_test_precision_score</th>\n",
       "    </tr>\n",
       "  </thead>\n",
       "  <tbody>\n",
       "    <tr>\n",
       "      <th>0</th>\n",
       "      <td>0.87037</td>\n",
       "      <td>0.0</td>\n",
       "      <td>0.0</td>\n",
       "      <td>0.0</td>\n",
       "    </tr>\n",
       "  </tbody>\n",
       "</table>\n",
       "</div>"
      ],
      "text/plain": [
       "   mean_test_accuracy_score  mean_test_f1_score  mean_test_recall_score  \\\n",
       "0                   0.87037                 0.0                     0.0   \n",
       "\n",
       "   mean_test_precision_score  \n",
       "0                        0.0  "
      ]
     },
     "metadata": {},
     "output_type": "display_data"
    }
   ],
   "source": [
    "from toolsClassifiers import runClassifier\n",
    "from sklearn.svm import SVC\n",
    "\n",
    "clf = SVC()\n",
    "param_grid = {'C':[1],\n",
    "             'kernel':['rbf']\n",
    "             }\n",
    "clf, y_pred, results = runClassifier(clf, param_grid, clfData, scorers)\n",
    "res = pd.DataFrame(results)\n",
    "colTrain = ['mean_train_accuracy_score','mean_train_f1_score','mean_train_recall_score','mean_train_precision_score']\n",
    "colTest = ['mean_test_accuracy_score','mean_test_f1_score','mean_test_recall_score','mean_test_precision_score']\n",
    "display(res[colTrain])\n",
    "display(res[colTest])\n",
    "\n",
    "# add to score summary table\n",
    "scores = np.array(res[colTest])\n",
    "scores = scores.tolist()[0]\n",
    "initialScoreSummary.loc['SVC'] = scores"
   ]
  },
  {
   "cell_type": "markdown",
   "metadata": {},
   "source": [
    "#### Random Forest"
   ]
  },
  {
   "cell_type": "code",
   "execution_count": 14,
   "metadata": {
    "ExecuteTime": {
     "end_time": "2019-01-13T04:52:32.720000Z",
     "start_time": "2019-01-13T04:52:32.478000Z"
    },
    "hide_input": true
   },
   "outputs": [
    {
     "data": {
      "text/html": [
       "<div>\n",
       "<style scoped>\n",
       "    .dataframe tbody tr th:only-of-type {\n",
       "        vertical-align: middle;\n",
       "    }\n",
       "\n",
       "    .dataframe tbody tr th {\n",
       "        vertical-align: top;\n",
       "    }\n",
       "\n",
       "    .dataframe thead th {\n",
       "        text-align: right;\n",
       "    }\n",
       "</style>\n",
       "<table border=\"1\" class=\"dataframe\">\n",
       "  <thead>\n",
       "    <tr style=\"text-align: right;\">\n",
       "      <th></th>\n",
       "      <th>mean_train_accuracy_score</th>\n",
       "      <th>mean_train_f1_score</th>\n",
       "      <th>mean_train_recall_score</th>\n",
       "      <th>mean_train_precision_score</th>\n",
       "    </tr>\n",
       "  </thead>\n",
       "  <tbody>\n",
       "    <tr>\n",
       "      <th>0</th>\n",
       "      <td>0.979175</td>\n",
       "      <td>0.90785</td>\n",
       "      <td>0.839394</td>\n",
       "      <td>1.0</td>\n",
       "    </tr>\n",
       "  </tbody>\n",
       "</table>\n",
       "</div>"
      ],
      "text/plain": [
       "   mean_train_accuracy_score  mean_train_f1_score  mean_train_recall_score  \\\n",
       "0                   0.979175              0.90785                 0.839394   \n",
       "\n",
       "   mean_train_precision_score  \n",
       "0                         1.0  "
      ]
     },
     "metadata": {},
     "output_type": "display_data"
    },
    {
     "data": {
      "text/html": [
       "<div>\n",
       "<style scoped>\n",
       "    .dataframe tbody tr th:only-of-type {\n",
       "        vertical-align: middle;\n",
       "    }\n",
       "\n",
       "    .dataframe tbody tr th {\n",
       "        vertical-align: top;\n",
       "    }\n",
       "\n",
       "    .dataframe thead th {\n",
       "        text-align: right;\n",
       "    }\n",
       "</style>\n",
       "<table border=\"1\" class=\"dataframe\">\n",
       "  <thead>\n",
       "    <tr style=\"text-align: right;\">\n",
       "      <th></th>\n",
       "      <th>mean_test_accuracy_score</th>\n",
       "      <th>mean_test_f1_score</th>\n",
       "      <th>mean_test_recall_score</th>\n",
       "      <th>mean_test_precision_score</th>\n",
       "    </tr>\n",
       "  </thead>\n",
       "  <tbody>\n",
       "    <tr>\n",
       "      <th>0</th>\n",
       "      <td>0.851852</td>\n",
       "      <td>0.203704</td>\n",
       "      <td>0.135802</td>\n",
       "      <td>0.407407</td>\n",
       "    </tr>\n",
       "  </tbody>\n",
       "</table>\n",
       "</div>"
      ],
      "text/plain": [
       "   mean_test_accuracy_score  mean_test_f1_score  mean_test_recall_score  \\\n",
       "0                  0.851852            0.203704                0.135802   \n",
       "\n",
       "   mean_test_precision_score  \n",
       "0                   0.407407  "
      ]
     },
     "metadata": {},
     "output_type": "display_data"
    }
   ],
   "source": [
    "from sklearn.ensemble import RandomForestClassifier\n",
    "\n",
    "clf = RandomForestClassifier()\n",
    "param_grid = {\n",
    "    'n_estimators':[10],\n",
    "    'max_features':['auto']\n",
    "}\n",
    "clf, y_pred, results = runClassifier(clf, param_grid, clfData, scorers)\n",
    "res = pd.DataFrame(results)\n",
    "colTrain = ['mean_train_accuracy_score','mean_train_f1_score','mean_train_recall_score','mean_train_precision_score']\n",
    "colTest = ['mean_test_accuracy_score','mean_test_f1_score','mean_test_recall_score','mean_test_precision_score']\n",
    "display(res[colTrain])\n",
    "display(res[colTest])\n",
    "\n",
    "# add to score summary table\n",
    "scores = np.array(res[colTest])\n",
    "scores = scores.tolist()[0]\n",
    "initialScoreSummary.loc['RandomForest'] = scores"
   ]
  },
  {
   "cell_type": "markdown",
   "metadata": {},
   "source": [
    "#### AdaBoost"
   ]
  },
  {
   "cell_type": "code",
   "execution_count": 15,
   "metadata": {
    "ExecuteTime": {
     "end_time": "2019-01-13T04:52:33.361000Z",
     "start_time": "2019-01-13T04:52:32.724000Z"
    },
    "hide_input": true
   },
   "outputs": [
    {
     "data": {
      "text/html": [
       "<div>\n",
       "<style scoped>\n",
       "    .dataframe tbody tr th:only-of-type {\n",
       "        vertical-align: middle;\n",
       "    }\n",
       "\n",
       "    .dataframe tbody tr th {\n",
       "        vertical-align: top;\n",
       "    }\n",
       "\n",
       "    .dataframe thead th {\n",
       "        text-align: right;\n",
       "    }\n",
       "</style>\n",
       "<table border=\"1\" class=\"dataframe\">\n",
       "  <thead>\n",
       "    <tr style=\"text-align: right;\">\n",
       "      <th></th>\n",
       "      <th>mean_train_accuracy_score</th>\n",
       "      <th>mean_train_f1_score</th>\n",
       "      <th>mean_train_recall_score</th>\n",
       "      <th>mean_train_precision_score</th>\n",
       "    </tr>\n",
       "  </thead>\n",
       "  <tbody>\n",
       "    <tr>\n",
       "      <th>0</th>\n",
       "      <td>1.0</td>\n",
       "      <td>1.0</td>\n",
       "      <td>1.0</td>\n",
       "      <td>1.0</td>\n",
       "    </tr>\n",
       "  </tbody>\n",
       "</table>\n",
       "</div>"
      ],
      "text/plain": [
       "   mean_train_accuracy_score  mean_train_f1_score  mean_train_recall_score  \\\n",
       "0                        1.0                  1.0                      1.0   \n",
       "\n",
       "   mean_train_precision_score  \n",
       "0                         1.0  "
      ]
     },
     "metadata": {},
     "output_type": "display_data"
    },
    {
     "data": {
      "text/html": [
       "<div>\n",
       "<style scoped>\n",
       "    .dataframe tbody tr th:only-of-type {\n",
       "        vertical-align: middle;\n",
       "    }\n",
       "\n",
       "    .dataframe tbody tr th {\n",
       "        vertical-align: top;\n",
       "    }\n",
       "\n",
       "    .dataframe thead th {\n",
       "        text-align: right;\n",
       "    }\n",
       "</style>\n",
       "<table border=\"1\" class=\"dataframe\">\n",
       "  <thead>\n",
       "    <tr style=\"text-align: right;\">\n",
       "      <th></th>\n",
       "      <th>mean_test_accuracy_score</th>\n",
       "      <th>mean_test_f1_score</th>\n",
       "      <th>mean_test_recall_score</th>\n",
       "      <th>mean_test_precision_score</th>\n",
       "    </tr>\n",
       "  </thead>\n",
       "  <tbody>\n",
       "    <tr>\n",
       "      <th>0</th>\n",
       "      <td>0.861111</td>\n",
       "      <td>0.346296</td>\n",
       "      <td>0.271605</td>\n",
       "      <td>0.509259</td>\n",
       "    </tr>\n",
       "  </tbody>\n",
       "</table>\n",
       "</div>"
      ],
      "text/plain": [
       "   mean_test_accuracy_score  mean_test_f1_score  mean_test_recall_score  \\\n",
       "0                  0.861111            0.346296                0.271605   \n",
       "\n",
       "   mean_test_precision_score  \n",
       "0                   0.509259  "
      ]
     },
     "metadata": {},
     "output_type": "display_data"
    }
   ],
   "source": [
    "from sklearn.ensemble import AdaBoostClassifier\n",
    "\n",
    "clf = AdaBoostClassifier()\n",
    "param_grid = {\n",
    "    'n_estimators':[50],\n",
    "    'learning_rate':[1]\n",
    "}\n",
    "clf, y_pred, results = runClassifier(clf, param_grid, clfData, scorers)\n",
    "res = pd.DataFrame(results)\n",
    "colTrain = ['mean_train_accuracy_score','mean_train_f1_score','mean_train_recall_score','mean_train_precision_score']\n",
    "colTest = ['mean_test_accuracy_score','mean_test_f1_score','mean_test_recall_score','mean_test_precision_score']\n",
    "display(res[colTrain])\n",
    "display(res[colTest])\n",
    "\n",
    "# add to score summary table\n",
    "scores = np.array(res[colTest])\n",
    "scores = scores.tolist()[0]\n",
    "initialScoreSummary.loc['AdaBoost'] = scores"
   ]
  },
  {
   "cell_type": "markdown",
   "metadata": {},
   "source": [
    "#### GradientTreeBoost"
   ]
  },
  {
   "cell_type": "code",
   "execution_count": 16,
   "metadata": {
    "ExecuteTime": {
     "end_time": "2019-01-13T04:52:33.611000Z",
     "start_time": "2019-01-13T04:52:33.366000Z"
    },
    "hide_input": true
   },
   "outputs": [
    {
     "data": {
      "text/html": [
       "<div>\n",
       "<style scoped>\n",
       "    .dataframe tbody tr th:only-of-type {\n",
       "        vertical-align: middle;\n",
       "    }\n",
       "\n",
       "    .dataframe tbody tr th {\n",
       "        vertical-align: top;\n",
       "    }\n",
       "\n",
       "    .dataframe thead th {\n",
       "        text-align: right;\n",
       "    }\n",
       "</style>\n",
       "<table border=\"1\" class=\"dataframe\">\n",
       "  <thead>\n",
       "    <tr style=\"text-align: right;\">\n",
       "      <th></th>\n",
       "      <th>mean_train_accuracy_score</th>\n",
       "      <th>mean_train_f1_score</th>\n",
       "      <th>mean_train_recall_score</th>\n",
       "      <th>mean_train_precision_score</th>\n",
       "    </tr>\n",
       "  </thead>\n",
       "  <tbody>\n",
       "    <tr>\n",
       "      <th>0</th>\n",
       "      <td>1.0</td>\n",
       "      <td>1.0</td>\n",
       "      <td>1.0</td>\n",
       "      <td>1.0</td>\n",
       "    </tr>\n",
       "  </tbody>\n",
       "</table>\n",
       "</div>"
      ],
      "text/plain": [
       "   mean_train_accuracy_score  mean_train_f1_score  mean_train_recall_score  \\\n",
       "0                        1.0                  1.0                      1.0   \n",
       "\n",
       "   mean_train_precision_score  \n",
       "0                         1.0  "
      ]
     },
     "metadata": {},
     "output_type": "display_data"
    },
    {
     "data": {
      "text/html": [
       "<div>\n",
       "<style scoped>\n",
       "    .dataframe tbody tr th:only-of-type {\n",
       "        vertical-align: middle;\n",
       "    }\n",
       "\n",
       "    .dataframe tbody tr th {\n",
       "        vertical-align: top;\n",
       "    }\n",
       "\n",
       "    .dataframe thead th {\n",
       "        text-align: right;\n",
       "    }\n",
       "</style>\n",
       "<table border=\"1\" class=\"dataframe\">\n",
       "  <thead>\n",
       "    <tr style=\"text-align: right;\">\n",
       "      <th></th>\n",
       "      <th>mean_test_accuracy_score</th>\n",
       "      <th>mean_test_f1_score</th>\n",
       "      <th>mean_test_recall_score</th>\n",
       "      <th>mean_test_precision_score</th>\n",
       "    </tr>\n",
       "  </thead>\n",
       "  <tbody>\n",
       "    <tr>\n",
       "      <th>0</th>\n",
       "      <td>0.851852</td>\n",
       "      <td>0.285185</td>\n",
       "      <td>0.271605</td>\n",
       "      <td>0.305556</td>\n",
       "    </tr>\n",
       "  </tbody>\n",
       "</table>\n",
       "</div>"
      ],
      "text/plain": [
       "   mean_test_accuracy_score  mean_test_f1_score  mean_test_recall_score  \\\n",
       "0                  0.851852            0.285185                0.271605   \n",
       "\n",
       "   mean_test_precision_score  \n",
       "0                   0.305556  "
      ]
     },
     "metadata": {},
     "output_type": "display_data"
    }
   ],
   "source": [
    "from sklearn.ensemble import GradientBoostingClassifier\n",
    "\n",
    "clf = GradientBoostingClassifier()\n",
    "param_grid = {\n",
    "    'n_estimators':[100],\n",
    "    'learning_rate':[0.1]\n",
    "}\n",
    "clf, y_pred, results = runClassifier(clf, param_grid, clfData, scorers)\n",
    "res = pd.DataFrame(results)\n",
    "colTrain = ['mean_train_accuracy_score','mean_train_f1_score','mean_train_recall_score','mean_train_precision_score']\n",
    "colTest = ['mean_test_accuracy_score','mean_test_f1_score','mean_test_recall_score','mean_test_precision_score']\n",
    "display(res[colTrain])\n",
    "display(res[colTest])\n",
    "\n",
    "# add to score summary table\n",
    "scores = np.array(res[colTest])\n",
    "scores = scores.tolist()[0]\n",
    "initialScoreSummary.loc['GradientTreeBoost'] = scores"
   ]
  },
  {
   "cell_type": "markdown",
   "metadata": {},
   "source": [
    "#### GaussianNaiveBayes"
   ]
  },
  {
   "cell_type": "code",
   "execution_count": 17,
   "metadata": {
    "ExecuteTime": {
     "end_time": "2019-01-13T04:52:33.644000Z",
     "start_time": "2019-01-13T04:52:33.616000Z"
    },
    "hide_input": true
   },
   "outputs": [
    {
     "data": {
      "text/html": [
       "<div>\n",
       "<style scoped>\n",
       "    .dataframe tbody tr th:only-of-type {\n",
       "        vertical-align: middle;\n",
       "    }\n",
       "\n",
       "    .dataframe tbody tr th {\n",
       "        vertical-align: top;\n",
       "    }\n",
       "\n",
       "    .dataframe thead th {\n",
       "        text-align: right;\n",
       "    }\n",
       "</style>\n",
       "<table border=\"1\" class=\"dataframe\">\n",
       "  <thead>\n",
       "    <tr style=\"text-align: right;\">\n",
       "      <th></th>\n",
       "      <th>accuracy score</th>\n",
       "      <th>f1 score</th>\n",
       "      <th>recall score</th>\n",
       "      <th>precision score</th>\n",
       "    </tr>\n",
       "  </thead>\n",
       "  <tbody>\n",
       "    <tr>\n",
       "      <th>0</th>\n",
       "      <td>0.805556</td>\n",
       "      <td>0.222222</td>\n",
       "      <td>0.25</td>\n",
       "      <td>0.2</td>\n",
       "    </tr>\n",
       "  </tbody>\n",
       "</table>\n",
       "</div>"
      ],
      "text/plain": [
       "   accuracy score  f1 score  recall score  precision score\n",
       "0        0.805556  0.222222          0.25              0.2"
      ]
     },
     "metadata": {},
     "output_type": "display_data"
    }
   ],
   "source": [
    "# this classifier doesn't have much in the way of tuning, so scoring works differently with the generic functions I've \n",
    "# created, so some customization is required\n",
    "\n",
    "from sklearn.naive_bayes import GaussianNB\n",
    "from sklearn.metrics import precision_score, recall_score, accuracy_score, f1_score\n",
    "\n",
    "clf = GaussianNB()\n",
    "clf.fit(clfData['xtrain'], clfData['ytrain'])\n",
    "y_pred = clf.predict(clfData['xtest'])\n",
    "precScore = precision_score(clfData['ytest'], y_pred)\n",
    "recallScore = recall_score(clfData['ytest'], y_pred)\n",
    "accuracyScore = accuracy_score(clfData['ytest'], y_pred)\n",
    "f1Score = f1_score(clfData['ytest'], y_pred)\n",
    "scores = [[accuracyScore, f1Score, recallScore, precScore]]\n",
    "df = pd.DataFrame(scores, columns=['accuracy score', 'f1 score', 'recall score', 'precision score'])\n",
    "display(df)\n",
    "\n",
    "# add to score summary table\n",
    "scores = np.array(res[colTest])\n",
    "scores = scores.tolist()[0]\n",
    "initialScoreSummary.loc['GaussianNB'] = scores"
   ]
  },
  {
   "cell_type": "markdown",
   "metadata": {},
   "source": [
    "### Summary of initial classification attempts\n",
    "The following table shows the performance of the various classifiers against the limited dataset in the poi_id.py file. The Support Vector Classifier is a good example of the problem of using accuracy as the only metric, since it has second highest accuracy, but has 0 precision and recall. For a dataset like this where the poi's only make up about 12.5% of the whole dataset (18/145), classifying everything as not a poi can get you 87% accuracy, and still be a complete failure. Hence, it's a better idea to use the f1 score, since it considers both recall and precision."
   ]
  },
  {
   "cell_type": "code",
   "execution_count": 18,
   "metadata": {
    "ExecuteTime": {
     "end_time": "2019-01-13T04:52:33.664000Z",
     "start_time": "2019-01-13T04:52:33.647000Z"
    },
    "hide_input": false
   },
   "outputs": [
    {
     "data": {
      "text/html": [
       "<div>\n",
       "<style scoped>\n",
       "    .dataframe tbody tr th:only-of-type {\n",
       "        vertical-align: middle;\n",
       "    }\n",
       "\n",
       "    .dataframe tbody tr th {\n",
       "        vertical-align: top;\n",
       "    }\n",
       "\n",
       "    .dataframe thead th {\n",
       "        text-align: right;\n",
       "    }\n",
       "</style>\n",
       "<table border=\"1\" class=\"dataframe\">\n",
       "  <thead>\n",
       "    <tr style=\"text-align: right;\">\n",
       "      <th></th>\n",
       "      <th>accuracy score</th>\n",
       "      <th>f1 score</th>\n",
       "      <th>recall score</th>\n",
       "      <th>precision score</th>\n",
       "    </tr>\n",
       "  </thead>\n",
       "  <tbody>\n",
       "    <tr>\n",
       "      <th>SVC</th>\n",
       "      <td>0.870370</td>\n",
       "      <td>0.000000</td>\n",
       "      <td>0.000000</td>\n",
       "      <td>0.000000</td>\n",
       "    </tr>\n",
       "    <tr>\n",
       "      <th>RandomForest</th>\n",
       "      <td>0.851852</td>\n",
       "      <td>0.203704</td>\n",
       "      <td>0.135802</td>\n",
       "      <td>0.407407</td>\n",
       "    </tr>\n",
       "    <tr>\n",
       "      <th>AdaBoost</th>\n",
       "      <td>0.861111</td>\n",
       "      <td>0.346296</td>\n",
       "      <td>0.271605</td>\n",
       "      <td>0.509259</td>\n",
       "    </tr>\n",
       "    <tr>\n",
       "      <th>GradientTreeBoost</th>\n",
       "      <td>0.851852</td>\n",
       "      <td>0.285185</td>\n",
       "      <td>0.271605</td>\n",
       "      <td>0.305556</td>\n",
       "    </tr>\n",
       "    <tr>\n",
       "      <th>GaussianNB</th>\n",
       "      <td>0.851852</td>\n",
       "      <td>0.285185</td>\n",
       "      <td>0.271605</td>\n",
       "      <td>0.305556</td>\n",
       "    </tr>\n",
       "  </tbody>\n",
       "</table>\n",
       "</div>"
      ],
      "text/plain": [
       "                   accuracy score  f1 score  recall score  precision score\n",
       "SVC                      0.870370  0.000000      0.000000         0.000000\n",
       "RandomForest             0.851852  0.203704      0.135802         0.407407\n",
       "AdaBoost                 0.861111  0.346296      0.271605         0.509259\n",
       "GradientTreeBoost        0.851852  0.285185      0.271605         0.305556\n",
       "GaussianNB               0.851852  0.285185      0.271605         0.305556"
      ]
     },
     "metadata": {},
     "output_type": "display_data"
    }
   ],
   "source": [
    "display(initialScoreSummary)"
   ]
  },
  {
   "cell_type": "markdown",
   "metadata": {},
   "source": [
    "### Classifier Tuning\n",
    "#### Method\n",
    "- The full list of features and scaled data (including the created ones) is passed to SelectKBest, where I tried a range of parameters for k based on the results from the earlier scoring.\n",
    "- The top features are then split up in to training and testing data\n",
    "- This training data is then passed to StratifiedKFold, with n_splits=5.  This value was chosen because in the initial dataset, there are only 18 pois, so further splitting would result in too few pois in each training group. StratifiedKFold was chosen so as to best distribute the information for (hopefully) best training results.\n",
    "- The result of the StratifiedKFold is then passed in to GridSearchCV, which is a cross validator which will exhaustively check the list of parameters passed into that function. The parameter list varies based on the classifier used, and will be noted for each tuning scenario below. The cross validator optimizes the classifier based on the refit scoring method passed in, which I changed based on the classifier I was using, although f1 was the default.\n",
    "- the cross validation results are then printed to score the classifier based on f1, precision, and recall.\n",
    "- the final classifier is then created based on the best_params_ attribute as ranked by the scoring function chosen earlier\n"
   ]
  },
  {
   "cell_type": "markdown",
   "metadata": {},
   "source": [
    "#### RandomForest Tuning Parameters\n",
    "\n",
    "k_features = 5<br>\n",
    "test_size = 0.1<br>\n",
    "\n",
    "param_grid:\n",
    "- 'min_samples_split': [3, 5, 10],<br>\n",
    "- 'n_estimators': [50, 100],<br>\n",
    "- 'max_depth': [3, k_features / 2, k_features],<br>\n",
    "- 'max_features': [3, k_features / 2, k_features]<br>\n",
    "\n",
    "To make the tuning more automated, I chose k_features/2 to set up for min, middle, max, but in this case ends up 3,2,5, but that was fine."
   ]
  },
  {
   "cell_type": "markdown",
   "metadata": {},
   "source": [
    "#### AdaBoost Tuning Parameters\n",
    "\n",
    "k_features = 5<br>\n",
    "test_size = 0.3<br>\n",
    "\n",
    "param_grid:\n",
    "- 'n_estimators': [50, 100,150,200]<br>\n",
    "- 'learning_rate': [0.5, 1, 2,5,10]<br>\n"
   ]
  },
  {
   "cell_type": "markdown",
   "metadata": {},
   "source": [
    "#### GradientBoost Tuning Parameters\n",
    "\n",
    "k_features = 5<br>\n",
    "test_size = 0.25<br>\n",
    "\n",
    "param_grid:\n",
    "- 'n_estimators': [50, 100,150,200]<br>\n",
    "- 'learning_rate': [0.01, 0.1, 1, 2, 5]<br>\n",
    "- 'subsample':[0.3, 0.6, 1]<br>\n"
   ]
  },
  {
   "cell_type": "markdown",
   "metadata": {},
   "source": [
    "#### SVC Tuning Parameters\n",
    "\n",
    "test_size = 0.3<br>\n",
    "\n",
    "param_grid:\n",
    "- 'C': [0.0000001, 0.000001, 0.00001, 0.0001, 0.001, 0.1,1,2,4,8,16]<br>\n",
    "- 'gamma': [0.0000001, 0.000001, 0.00001, 0.0001, 0.001, 0.1, 0.5, 1, 2, 4]<br>\n",
    "\n",
    "I continued to expand the parameters for the SVC, because it was routinely turning up 0 recall and precision. I noticed that it always chose the lowest 'C' value during tuning (and likewise 'gamma', but at some point, it chose larger gammas, so I needed to provide a sufficient range for tuning. Despite that, while it worked with the smaller training/testing data in a limited sense, I think that ultimately, despite any of the tuning parameters, it was overfitted to the data, even with a test_size of 0.5, since it completely failed every time with the larger dataset."
   ]
  },
  {
   "cell_type": "markdown",
   "metadata": {},
   "source": [
    "### Validation and Evaluating Tuning Results\n",
    "\n",
    "[Validation](https://link.springer.com/referenceworkentry/10.1007%2F978-1-4419-9863-7_233) of a machine learning model is the process of taking a trained model and evaluating it with a testing data set. Typically, the data set is a separate portion of the same data from which the model was trained. The point of the evaluation is to score the ability of the trained model to make correct, generalized predictions on new datasets. Examples of scoring metrics are accuracy, precision, recall, and F1. Validation is important because without measuring how a model generalizes beyond the training dataset, its behavior with actual data is unpredictable and may lead to false conclusions (in the case of business analysis) or incorrect behavior/actions (in the case of devices that use machine learning algorithms for operation, like self driving cars). Validation will catch mistakes such as overtraining, where the training scores look good, but upon testing, the scores are much worse.<br>\n",
    "<br>\n",
    "TP : True Positives<br>\n",
    "FP : False Positives<br>\n",
    "FN : False Negatives<br>\n",
    "\n",
    "[definitions](https://developers.google.com/machine-learning/crash-course/classification/precision-and-recall)<br>\n",
    "Precision : What proportion of positive identifications was actually correct? (TP/(TP+FP)) In the case of classifying POIs, precision is defined as : of the number of POIs that were identified, how many of them were actually POIs? In other words, if the model identified 100 POIs, but only 30 of those POIs identified were actually POIs, the precision would be 30/100, or 0.3.<br><br>\n",
    "Recall : What proportion of actual positives was identified correctly? (TP/(TP+FN)) Regarding this project, it would be defined as : of the actual number of POIs in the data, how many were actually identified correctly?  For example, if the model identified 30 POIs correctly (from the precision example above), but there were actually 200 POIs in the dataset, the recall would be 30/200, or 0.15.<br>\n",
    "\n",
    "\n",
    "Both RandomForest and GradientBoost meet the criteria of precision and recall > 0.3, but I would choose GradientBoost as the best classifier for this dataset because I believe that recall is more important than precision for this exercise. The question we need to answer is : do we want to investigate more people to ensure we find all persons of interest, or are we willing to miss some people who are responsible?  If we're willing to investigate more, then precision is less important than recall since we may mis-classify some people, but arguably we should realize their innocence upon further investigation. However, if we prioritize precision, then we might feel confident in the choices we've made, but we should expect that it is definitely an incomplete list, and that some responsible parties will not be held accountable. "
   ]
  },
  {
   "cell_type": "code",
   "execution_count": 19,
   "metadata": {
    "ExecuteTime": {
     "end_time": "2019-01-13T04:52:33.697000Z",
     "start_time": "2019-01-13T04:52:33.670000Z"
    },
    "hide_input": true
   },
   "outputs": [
    {
     "data": {
      "text/html": [
       "<div>\n",
       "<style scoped>\n",
       "    .dataframe tbody tr th:only-of-type {\n",
       "        vertical-align: middle;\n",
       "    }\n",
       "\n",
       "    .dataframe tbody tr th {\n",
       "        vertical-align: top;\n",
       "    }\n",
       "\n",
       "    .dataframe thead th {\n",
       "        text-align: right;\n",
       "    }\n",
       "</style>\n",
       "<table border=\"1\" class=\"dataframe\">\n",
       "  <thead>\n",
       "    <tr style=\"text-align: right;\">\n",
       "      <th></th>\n",
       "      <th>accuracy score</th>\n",
       "      <th>precision score</th>\n",
       "      <th>recall score</th>\n",
       "      <th>f1 score</th>\n",
       "    </tr>\n",
       "  </thead>\n",
       "  <tbody>\n",
       "    <tr>\n",
       "      <th>RandomForest</th>\n",
       "      <td>0.857</td>\n",
       "      <td>0.562</td>\n",
       "      <td>0.331</td>\n",
       "      <td>0.416</td>\n",
       "    </tr>\n",
       "    <tr>\n",
       "      <th>AdaBoost</th>\n",
       "      <td>0.805</td>\n",
       "      <td>0.34</td>\n",
       "      <td>0.281</td>\n",
       "      <td>0.308</td>\n",
       "    </tr>\n",
       "    <tr>\n",
       "      <th>GradientBoost</th>\n",
       "      <td>0.846</td>\n",
       "      <td>0.498</td>\n",
       "      <td>0.39</td>\n",
       "      <td>0.437</td>\n",
       "    </tr>\n",
       "    <tr>\n",
       "      <th>SVC</th>\n",
       "      <td>NA</td>\n",
       "      <td>NA</td>\n",
       "      <td>NA</td>\n",
       "      <td>NA</td>\n",
       "    </tr>\n",
       "    <tr>\n",
       "      <th>GaussianNB</th>\n",
       "      <td>0.831</td>\n",
       "      <td>0.578</td>\n",
       "      <td>0.266</td>\n",
       "      <td>0.364</td>\n",
       "    </tr>\n",
       "  </tbody>\n",
       "</table>\n",
       "</div>"
      ],
      "text/plain": [
       "              accuracy score precision score recall score f1 score\n",
       "RandomForest           0.857           0.562        0.331    0.416\n",
       "AdaBoost               0.805            0.34        0.281    0.308\n",
       "GradientBoost          0.846           0.498         0.39    0.437\n",
       "SVC                       NA              NA           NA       NA\n",
       "GaussianNB             0.831           0.578        0.266    0.364"
      ]
     },
     "metadata": {},
     "output_type": "display_data"
    }
   ],
   "source": [
    "# the list is populated as accuracy, precision, recall, f1\n",
    "testerScoreRandomForest = [0.857, 0.562, 0.331, 0.416]\n",
    "testerScoreAdaBoost = [0.805, 0.340, 0.281, 0.308]\n",
    "testerScoreGradientBoost = [0.846, 0.498, 0.390, 0.437]\n",
    "testerScoreSVC = ['NA', 'NA', 'NA', 'NA']\n",
    "testerScoreGaussianNB = [0.831, 0.578, 0.266, 0.364]\n",
    "\n",
    "dfTesterScores = pd.DataFrame(columns=['accuracy score', 'precision score', 'recall score', 'f1 score'])\n",
    "dfTesterScores.loc['RandomForest'] = testerScoreRandomForest\n",
    "dfTesterScores.loc['AdaBoost'] = testerScoreAdaBoost\n",
    "dfTesterScores.loc['GradientBoost'] = testerScoreGradientBoost\n",
    "dfTesterScores.loc['SVC'] = testerScoreSVC\n",
    "dfTesterScores.loc['GaussianNB'] = testerScoreGaussianNB\n",
    "\n",
    "display(dfTesterScores)"
   ]
  }
 ],
 "metadata": {
  "hide_input": false,
  "kernelspec": {
   "display_name": "Python 2",
   "language": "python",
   "name": "python2"
  },
  "language_info": {
   "codemirror_mode": {
    "name": "ipython",
    "version": 2
   },
   "file_extension": ".py",
   "mimetype": "text/x-python",
   "name": "python",
   "nbconvert_exporter": "python",
   "pygments_lexer": "ipython2",
   "version": "2.7.15"
  }
 },
 "nbformat": 4,
 "nbformat_minor": 2
}
